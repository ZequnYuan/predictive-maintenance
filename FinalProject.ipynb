{
 "cells": [
  {
   "cell_type": "code",
   "execution_count": 1,
   "id": "a365722e-beee-4f47-b857-81ab96eda808",
   "metadata": {},
   "outputs": [],
   "source": [
    "#Student Name: Zequn Yuan\n",
    "#Course Name: CS-505 - 740\n",
    "# predictive_maintenance.ipynb\n",
    "\n",
    "# 1. Importing Libraries\n",
    "import pandas as pd\n",
    "import numpy as np\n",
    "import matplotlib.pyplot as plt\n",
    "from sklearn.ensemble import RandomForestClassifier\n",
    "from sklearn.svm import SVC\n",
    "from sklearn.metrics import classification_report, confusion_matrix\n",
    "from sklearn.model_selection import train_test_split\n",
    "from tensorflow.keras.models import Sequential\n",
    "from tensorflow.keras.layers import LSTM, Dense, Dropout\n",
    "from tensorflow.keras.optimizers import Adam\n",
    "from sklearn.preprocessing import MinMaxScaler"
   ]
  },
  {
   "cell_type": "code",
   "execution_count": 12,
   "id": "bb89980e-81ea-47c8-b381-ac5d4a780b16",
   "metadata": {},
   "outputs": [
    {
     "name": "stdout",
     "output_type": "stream",
     "text": [
      "   engine_id  cycle  op_setting1  op_setting2  op_setting3  sensor1  sensor2  \\\n",
      "0          1      1      -0.0007      -0.0004        100.0   518.67   641.82   \n",
      "1          1      2       0.0019      -0.0003        100.0   518.67   642.15   \n",
      "2          1      3      -0.0043       0.0003        100.0   518.67   642.35   \n",
      "3          1      4       0.0007       0.0000        100.0   518.67   642.35   \n",
      "4          1      5      -0.0019      -0.0002        100.0   518.67   642.37   \n",
      "\n",
      "   sensor3  sensor4  sensor5  ...  sensor12  sensor13  sensor14  sensor15  \\\n",
      "0  1589.70  1400.60    14.62  ...    521.66   2388.02   8138.62    8.4195   \n",
      "1  1591.82  1403.14    14.62  ...    522.28   2388.07   8131.49    8.4318   \n",
      "2  1587.99  1404.20    14.62  ...    522.42   2388.03   8133.23    8.4178   \n",
      "3  1582.79  1401.87    14.62  ...    522.86   2388.08   8133.83    8.3682   \n",
      "4  1582.85  1406.22    14.62  ...    522.19   2388.04   8133.80    8.4294   \n",
      "\n",
      "   sensor16  sensor17  sensor18  sensor19  sensor20  sensor21  \n",
      "0      0.03       392      2388     100.0     39.06   23.4190  \n",
      "1      0.03       392      2388     100.0     39.00   23.4236  \n",
      "2      0.03       390      2388     100.0     38.95   23.3442  \n",
      "3      0.03       392      2388     100.0     38.88   23.3739  \n",
      "4      0.03       393      2388     100.0     38.90   23.4044  \n",
      "\n",
      "[5 rows x 26 columns]\n",
      "Shape: (20631, 26)\n"
     ]
    },
    {
     "name": "stderr",
     "output_type": "stream",
     "text": [
      "C:\\Users\\Yuan\\AppData\\Local\\Temp\\ipykernel_6412\\643613516.py:5: FutureWarning: The 'delim_whitespace' keyword in pd.read_csv is deprecated and will be removed in a future version. Use ``sep='\\s+'`` instead\n",
      "  df = pd.read_csv('C:/Users/Yuan/Downloads/train_FD001.txt', delim_whitespace=True, header=None)\n"
     ]
    }
   ],
   "source": [
    "# 2. Load Dataset\n",
    "import pandas as pd\n",
    "\n",
    "# Load dataset with whitespace delimiter\n",
    "df = pd.read_csv('C:/Users/Yuan/Downloads/train_FD001.txt', delim_whitespace=True, header=None)\n",
    "\n",
    "# Assign column names\n",
    "df.columns = ['engine_id', 'cycle'] + ['op_setting1', 'op_setting2', 'op_setting3'] + [f'sensor{i}' for i in range(1, 22)]\n",
    "\n",
    "# Check the result\n",
    "print(df.head())\n",
    "print(f\"Shape: {df.shape}\")"
   ]
  },
  {
   "cell_type": "code",
   "execution_count": 13,
   "id": "204db608-e5c8-4d63-bb6f-20c3f024663e",
   "metadata": {},
   "outputs": [
    {
     "name": "stderr",
     "output_type": "stream",
     "text": [
      "C:\\Users\\Yuan\\AppData\\Local\\Temp\\ipykernel_6412\\971533444.py:2: FutureWarning: The provided callable <built-in function max> is currently using SeriesGroupBy.max. In a future version of pandas, the provided callable will be used directly. To keep current behavior pass the string \"max\" instead.\n",
      "  df['RUL'] = df.groupby('engine_id')['cycle'].transform(max) - df['cycle']\n"
     ]
    }
   ],
   "source": [
    "# 3. Preprocessing\n",
    "df['RUL'] = df.groupby('engine_id')['cycle'].transform(max) - df['cycle']\n",
    "selected_sensors = ['sensor2', 'sensor3', 'sensor4', 'sensor7', 'sensor8', 'sensor11', 'sensor15', 'sensor20']\n",
    "data = df[selected_sensors + ['RUL']]\n",
    "\n",
    "scaler = MinMaxScaler()\n",
    "scaled_data = scaler.fit_transform(data)"
   ]
  },
  {
   "cell_type": "code",
   "execution_count": 14,
   "id": "636552ee-2042-4e0f-833c-92bad452f982",
   "metadata": {},
   "outputs": [],
   "source": [
    "# 4. Train/Test Split\n",
    "X = scaled_data[:, :-1]\n",
    "y = (df['RUL'] < 30).astype(int)  # Binary classification\n",
    "\n",
    "X_train, X_test, y_train, y_test = train_test_split(X, y, test_size=0.2)"
   ]
  },
  {
   "cell_type": "code",
   "execution_count": 5,
   "id": "8fdba313-4af5-47be-a399-03b4e3fba301",
   "metadata": {},
   "outputs": [
    {
     "ename": "NameError",
     "evalue": "name 'X_train' is not defined",
     "output_type": "error",
     "traceback": [
      "\u001b[1;31m---------------------------------------------------------------------------\u001b[0m",
      "\u001b[1;31mNameError\u001b[0m                                 Traceback (most recent call last)",
      "Cell \u001b[1;32mIn[5], line 3\u001b[0m\n\u001b[0;32m      1\u001b[0m \u001b[38;5;66;03m# 5. Random Forest\u001b[39;00m\n\u001b[0;32m      2\u001b[0m rf \u001b[38;5;241m=\u001b[39m RandomForestClassifier()\n\u001b[1;32m----> 3\u001b[0m rf\u001b[38;5;241m.\u001b[39mfit(X_train, y_train)\n\u001b[0;32m      4\u001b[0m y_pred_rf \u001b[38;5;241m=\u001b[39m rf\u001b[38;5;241m.\u001b[39mpredict(X_test)\n\u001b[0;32m      5\u001b[0m \u001b[38;5;28mprint\u001b[39m(\u001b[38;5;124m\"\u001b[39m\u001b[38;5;124mRandom Forest Report:\u001b[39m\u001b[38;5;124m\"\u001b[39m)\n",
      "\u001b[1;31mNameError\u001b[0m: name 'X_train' is not defined"
     ]
    }
   ],
   "source": [
    "# 5. Random Forest\n",
    "rf = RandomForestClassifier()\n",
    "rf.fit(X_train, y_train)\n",
    "y_pred_rf = rf.predict(X_test)\n",
    "print(\"Random Forest Report:\")\n",
    "print(classification_report(y_test, y_pred_rf))\n"
   ]
  },
  {
   "cell_type": "code",
   "execution_count": 6,
   "id": "82db058f-cd57-48c4-9579-f8fac4782c37",
   "metadata": {},
   "outputs": [
    {
     "ename": "NameError",
     "evalue": "name 'X' is not defined",
     "output_type": "error",
     "traceback": [
      "\u001b[1;31m---------------------------------------------------------------------------\u001b[0m",
      "\u001b[1;31mNameError\u001b[0m                                 Traceback (most recent call last)",
      "Cell \u001b[1;32mIn[6], line 9\u001b[0m\n\u001b[0;32m      6\u001b[0m         ys\u001b[38;5;241m.\u001b[39mappend(y[i\u001b[38;5;241m+\u001b[39mtime_steps])\n\u001b[0;32m      7\u001b[0m     \u001b[38;5;28;01mreturn\u001b[39;00m np\u001b[38;5;241m.\u001b[39marray(Xs), np\u001b[38;5;241m.\u001b[39marray(ys)\n\u001b[1;32m----> 9\u001b[0m X_seq, y_seq \u001b[38;5;241m=\u001b[39m create_sequences(X, y)\n\u001b[0;32m     11\u001b[0m X_train_seq, X_test_seq, y_train_seq, y_test_seq \u001b[38;5;241m=\u001b[39m train_test_split(X_seq, y_seq, test_size\u001b[38;5;241m=\u001b[39m\u001b[38;5;241m0.2\u001b[39m)\n",
      "\u001b[1;31mNameError\u001b[0m: name 'X' is not defined"
     ]
    }
   ],
   "source": [
    "# 6. LSTM Preparation\n",
    "def create_sequences(X, y, time_steps=30):\n",
    "    Xs, ys = [], []\n",
    "    for i in range(len(X) - time_steps):\n",
    "        Xs.append(X[i:i+time_steps])\n",
    "        ys.append(y[i+time_steps])\n",
    "    return np.array(Xs), np.array(ys)\n",
    "\n",
    "X_seq, y_seq = create_sequences(X, y)\n",
    "\n",
    "X_train_seq, X_test_seq, y_train_seq, y_test_seq = train_test_split(X_seq, y_seq, test_size=0.2)\n"
   ]
  },
  {
   "cell_type": "code",
   "execution_count": 7,
   "id": "7d999720-06ad-43f0-b3c5-530b711c1f52",
   "metadata": {},
   "outputs": [
    {
     "ename": "NameError",
     "evalue": "name 'X' is not defined",
     "output_type": "error",
     "traceback": [
      "\u001b[1;31m---------------------------------------------------------------------------\u001b[0m",
      "\u001b[1;31mNameError\u001b[0m                                 Traceback (most recent call last)",
      "Cell \u001b[1;32mIn[7], line 3\u001b[0m\n\u001b[0;32m      1\u001b[0m \u001b[38;5;66;03m# 7. LSTM Model\u001b[39;00m\n\u001b[0;32m      2\u001b[0m model \u001b[38;5;241m=\u001b[39m Sequential()\n\u001b[1;32m----> 3\u001b[0m model\u001b[38;5;241m.\u001b[39madd(LSTM(\u001b[38;5;241m64\u001b[39m, return_sequences\u001b[38;5;241m=\u001b[39m\u001b[38;5;28;01mTrue\u001b[39;00m, input_shape\u001b[38;5;241m=\u001b[39m(\u001b[38;5;241m30\u001b[39m, X\u001b[38;5;241m.\u001b[39mshape[\u001b[38;5;241m1\u001b[39m])))\n\u001b[0;32m      4\u001b[0m model\u001b[38;5;241m.\u001b[39madd(Dropout(\u001b[38;5;241m0.2\u001b[39m))\n\u001b[0;32m      5\u001b[0m model\u001b[38;5;241m.\u001b[39madd(LSTM(\u001b[38;5;241m32\u001b[39m))\n",
      "\u001b[1;31mNameError\u001b[0m: name 'X' is not defined"
     ]
    }
   ],
   "source": [
    "# 7. LSTM Model\n",
    "model = Sequential()\n",
    "model.add(LSTM(64, return_sequences=True, input_shape=(30, X.shape[1])))\n",
    "model.add(Dropout(0.2))\n",
    "model.add(LSTM(32))\n",
    "model.add(Dense(1, activation='sigmoid'))\n",
    "\n",
    "model.compile(optimizer=Adam(), loss='binary_crossentropy', metrics=['accuracy'])\n",
    "history = model.fit(X_train_seq, y_train_seq, epochs=10, batch_size=64, validation_data=(X_test_seq, y_test_seq))\n"
   ]
  },
  {
   "cell_type": "code",
   "execution_count": null,
   "id": "7e619534-4f71-40da-bcfa-ae7d96506d7b",
   "metadata": {},
   "outputs": [],
   "source": []
  }
 ],
 "metadata": {
  "kernelspec": {
   "display_name": "Python [conda env:base] *",
   "language": "python",
   "name": "conda-base-py"
  },
  "language_info": {
   "codemirror_mode": {
    "name": "ipython",
    "version": 3
   },
   "file_extension": ".py",
   "mimetype": "text/x-python",
   "name": "python",
   "nbconvert_exporter": "python",
   "pygments_lexer": "ipython3",
   "version": "3.12.7"
  }
 },
 "nbformat": 4,
 "nbformat_minor": 5
}
